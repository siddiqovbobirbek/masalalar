{
 "cells": [
  {
   "cell_type": "code",
   "execution_count": 2,
   "metadata": {},
   "outputs": [
    {
     "name": "stdout",
     "output_type": "stream",
     "text": [
      "1.1 1.2 "
     ]
    }
   ],
   "source": [
    "\n",
    "a, b, c = map(float, input().split(' '))\n",
    "if a>=1 and a<=3:\n",
    "    print(a, end=' ')\n",
    "if b>=1 and b<=3:\n",
    "    print(b, end=' ')\n",
    "if c>=1 and c<=3:\n",
    "    print(c, end=' ')"
   ]
  },
  {
   "cell_type": "markdown",
   "metadata": {},
   "source": [
    "39-masala"
   ]
  },
  {
   "cell_type": "code",
   "execution_count": 15,
   "metadata": {},
   "outputs": [
    {
     "name": "stdout",
     "output_type": "stream",
     "text": [
      "0.5 0.0\n"
     ]
    }
   ],
   "source": [
    "a,b = map(int, input().split())\n",
    "min1,max1 = min(a,b), max(a,b)\n",
    "min1 = (a+b)/2\n",
    "max1 = ((a+a)*(b+b))\n",
    "print((f'{round(min1, 1):.1f}'), f'{round(max1, 1):.1f}')\n",
    "\n",
    "\n"
   ]
  },
  {
   "cell_type": "markdown",
   "metadata": {},
   "source": [
    "40-masala"
   ]
  },
  {
   "cell_type": "code",
   "execution_count": 7,
   "metadata": {},
   "outputs": [
    {
     "name": "stdout",
     "output_type": "stream",
     "text": [
      "25 -2 16\n"
     ]
    }
   ],
   "source": [
    "a, b, c = map(int, input().split(' '))\n",
    "if a>=0: \n",
    "  a=a**2\n",
    "if b>=0:\n",
    "  b=b**2\n",
    "if c>=0:\n",
    "  c=c**2\n",
    "print(a, b, c)"
   ]
  },
  {
   "cell_type": "markdown",
   "metadata": {},
   "source": [
    "41-masala"
   ]
  },
  {
   "cell_type": "code",
   "execution_count": 42,
   "metadata": {},
   "outputs": [
    {
     "name": "stdout",
     "output_type": "stream",
     "text": [
      "0.71 0.62 0.8\n"
     ]
    }
   ],
   "source": [
    "# x, y, z = map(float, input().split(' '))\n",
    "\n",
    "l = [float(k) for k in input().split(' ')]\n",
    "\n",
    "x, y, z = l\n",
    "if x<1 and y<1 and z<1:\n",
    "    min1 = min(l)\n",
    "    min_i = l.index(min1)\n",
    "    l[min_i] = (sum(l)-l[min_i])/2\n",
    "    x, y, z = l \n",
    "    print(x, y, z)\n",
    "else:\n",
    "    print((f'{round(x, 2):.2f}'), (f'{round(y, 2):.2f}'), (f'{round(z, 2):.2f}'))\n",
    "    "
   ]
  },
  {
   "cell_type": "markdown",
   "metadata": {},
   "source": [
    "42-masala"
   ]
  },
  {
   "cell_type": "code",
   "execution_count": 61,
   "metadata": {},
   "outputs": [
    {
     "name": "stdout",
     "output_type": "stream",
     "text": [
      "2.0 2.0 2.0 2.0\n"
     ]
    }
   ],
   "source": [
    "m = [float(k) for k in input().split(' ')]\n",
    "a, b, c, d = m\n",
    "if a<=b<=c<=d:\n",
    "    n = max(a, b, c, d)\n",
    "    a=b=c=d = n\n",
    "    print(a, b, c, d)\n",
    "else:\n",
    "    m1 = min(a, b, c, d)\n",
    "    a=b=c=d = m1 \n",
    "    print(a, b, c, d)\n"
   ]
  },
  {
   "cell_type": "markdown",
   "metadata": {},
   "source": [
    "43-masala"
   ]
  },
  {
   "cell_type": "code",
   "execution_count": 69,
   "metadata": {},
   "outputs": [
    {
     "name": "stdout",
     "output_type": "stream",
     "text": [
      "-12.57 6.66\n"
     ]
    }
   ],
   "source": [
    "m = map(float, input().split())\n",
    "x, y = m\n",
    "if x<0 and y<0:\n",
    "    x, y = abs(x), abs(y)\n",
    "    print(x, y)\n",
    "elif x<0 or y<0:\n",
    "    x, y = x+0.5, y+0.5\n",
    "    print(x, y)\n",
    "else:\n",
    "    print(x, y)"
   ]
  },
  {
   "cell_type": "markdown",
   "metadata": {},
   "source": [
    "44-masala"
   ]
  },
  {
   "cell_type": "code",
   "execution_count": 76,
   "metadata": {},
   "outputs": [
    {
     "name": "stdout",
     "output_type": "stream",
     "text": [
      "NO\n"
     ]
    }
   ],
   "source": [
    "x, y, z = map(float, input().split())\n",
    "if z+y>x and x+z>y and x+y>z:\n",
    "    print(\"YES\")\n",
    "else:\n",
    "    print(\"NO\")"
   ]
  },
  {
   "cell_type": "markdown",
   "metadata": {},
   "source": [
    "45-masala"
   ]
  },
  {
   "cell_type": "code",
   "execution_count": 82,
   "metadata": {},
   "outputs": [
    {
     "name": "stdout",
     "output_type": "stream",
     "text": [
      "NO\n"
     ]
    }
   ],
   "source": [
    "import math\n",
    "a, b, c = map(float, input().split(' '))\n",
    "if a != 0 and b*b-4*a*c>=0:\n",
    "    x1 = (-b + math.sqrt(b*b-4*a*c)) / (2*a)\n",
    "    x2 = (-b - math.sqrt(b*b-4*a*c)) / (2*a)\n",
    "    print((f'{round(x1, 2):.2f}'),(f'{round(x2, 2):.2f}'))\n",
    "if a!=0 and b*b-4*a*c<0:\n",
    "    print(\"NO\")\n"
   ]
  },
  {
   "cell_type": "markdown",
   "metadata": {},
   "source": [
    "46-masala"
   ]
  },
  {
   "cell_type": "code",
   "execution_count": 99,
   "metadata": {},
   "outputs": [
    {
     "name": "stdout",
     "output_type": "stream",
     "text": [
      "4.00\n"
     ]
    }
   ],
   "source": [
    "import math\n",
    "a = float(input())\n",
    "if a<-1:\n",
    "    y1 = 1/(a*a)\n",
    "    print((f'{round(y1, 2):.2f}'))\n",
    "if -1<=a and a<2:\n",
    "    y2 = a*a\n",
    "    print((f'{round(y2, 2):.2f}'))\n",
    "elif a>=2:\n",
    "    y=4\n",
    "    print((f'{round(y, 2):.2f}'))"
   ]
  },
  {
   "cell_type": "code",
   "execution_count": 98,
   "metadata": {},
   "outputs": [
    {
     "name": "stdout",
     "output_type": "stream",
     "text": [
      "4.00\n"
     ]
    }
   ],
   "source": [
    "def calc(x: float) -> float:\n",
    "    if x<-1:\n",
    "        y = 1/(x**2)\n",
    "    elif -1<=x and x<2:\n",
    "        y = x**2\n",
    "    elif x>=2:\n",
    "        y = 4.00\n",
    "    return f\"{round(y, 2):.2f}\"\n",
    "x = float(input())\n",
    "print(calc(x))"
   ]
  },
  {
   "cell_type": "markdown",
   "metadata": {},
   "source": [
    "47-masala"
   ]
  },
  {
   "cell_type": "code",
   "execution_count": 101,
   "metadata": {},
   "outputs": [
    {
     "name": "stdout",
     "output_type": "stream",
     "text": [
      "0.04\n"
     ]
    }
   ],
   "source": [
    "import math\n",
    "a = float(input())\n",
    "if a<1:\n",
    "    y = abs(a)\n",
    "elif a>=1 and a<2:\n",
    "    y = 1\n",
    "elif a>=2:\n",
    "    y = -2*a+5\n",
    "print(f'{round(y, 2):.2f}')"
   ]
  },
  {
   "cell_type": "markdown",
   "metadata": {},
   "source": [
    "48-masala"
   ]
  },
  {
   "cell_type": "markdown",
   "metadata": {},
   "source": []
  },
  {
   "cell_type": "code",
   "execution_count": 103,
   "metadata": {},
   "outputs": [
    {
     "name": "stdout",
     "output_type": "stream",
     "text": [
      "-5.71\n"
     ]
    }
   ],
   "source": [
    "a = float(input())\n",
    "if a<=0:\n",
    "    y = -a\n",
    "else:\n",
    "    y = -(a*a)\n",
    "print(f'{round(y, 2):.2f}')"
   ]
  },
  {
   "cell_type": "markdown",
   "metadata": {},
   "source": [
    "49-masala"
   ]
  },
  {
   "cell_type": "code",
   "execution_count": 2,
   "metadata": {},
   "outputs": [
    {
     "name": "stdout",
     "output_type": "stream",
     "text": [
      "0.67\n"
     ]
    }
   ],
   "source": [
    "a = float(input())\n",
    "y = abs(abs(a)-1)\n",
    "print(f'{round(y, 2):.2f}')\n"
   ]
  },
  {
   "cell_type": "markdown",
   "metadata": {},
   "source": [
    "50-masala"
   ]
  },
  {
   "cell_type": "code",
   "execution_count": 9,
   "metadata": {},
   "outputs": [
    {
     "name": "stdout",
     "output_type": "stream",
     "text": [
      "yes\n"
     ]
    }
   ],
   "source": [
    "x, y = map(float, input().split())\n",
    "if (-1<=y and y<=(2-3*abs(x))) and (-1<=x and x<=1):\n",
    "    print(\"yes\")\n",
    "else:\n",
    "    print(\"no\")"
   ]
  },
  {
   "cell_type": "markdown",
   "metadata": {},
   "source": [
    "51-masala"
   ]
  },
  {
   "cell_type": "code",
   "execution_count": 11,
   "metadata": {},
   "outputs": [
    {
     "name": "stdout",
     "output_type": "stream",
     "text": [
      "yes\n"
     ]
    }
   ],
   "source": [
    "x, y = map(float, input().split())\n",
    "if (-2<=y and y<=abs(x)) and (-1<=x and x<=1):\n",
    "    print(\"yes\")\n",
    "else:\n",
    "    print(\"no\")"
   ]
  },
  {
   "cell_type": "markdown",
   "metadata": {},
   "source": [
    "52-masala"
   ]
  },
  {
   "cell_type": "code",
   "execution_count": null,
   "metadata": {},
   "outputs": [],
   "source": [
    "x, y = map(float, input().split())\n",
    "if (-2<=y and y<=abs(x)) and (-2<=x and x<=1):\n",
    "    print(\"yes\")\n",
    "else:\n",
    "    print(\"no\")"
   ]
  },
  {
   "cell_type": "code",
   "execution_count": 12,
   "metadata": {},
   "outputs": [
    {
     "name": "stdout",
     "output_type": "stream",
     "text": [
      "no\n"
     ]
    }
   ],
   "source": [
    "x, y = map(float, input().split(' '))\n",
    "\n",
    "if ((-2<=x and x<=2) and (y>=1 and y<=1.5)) or ((x<=1 and x>=-1) and y==abs(x)):\n",
    "    print(\"yes\")\n",
    "else:\n",
    "    print(\"no\")"
   ]
  },
  {
   "cell_type": "markdown",
   "metadata": {},
   "source": [
    "53-masala"
   ]
  },
  {
   "cell_type": "code",
   "execution_count": 17,
   "metadata": {},
   "outputs": [
    {
     "name": "stdout",
     "output_type": "stream",
     "text": [
      "no\n"
     ]
    }
   ],
   "source": [
    "x, y = map(float, input().split())\n",
    "if (y == abs(x) and (-1<=x and x<=1)) or (y == 1 and (-2<=x and x<=2)) or (y == 1.5 and (-2<=x and x<=2)) or (x == -2 and (1<=y and y<=1.5)) or (x == 2 and (1<=y and y<=1.5)):\n",
    "    print(\"yes\")\n",
    "else:\n",
    "    print(\"no\")"
   ]
  },
  {
   "cell_type": "markdown",
   "metadata": {},
   "source": [
    "61-masala"
   ]
  },
  {
   "cell_type": "code",
   "execution_count": 13,
   "metadata": {},
   "outputs": [
    {
     "name": "stdout",
     "output_type": "stream",
     "text": [
      "0.65\n"
     ]
    }
   ],
   "source": [
    "import math\n",
    "n = int(input())\n",
    "sum = 0\n",
    "for i in range(1, n+1):\n",
    "    i = int(i)\n",
    "    sum += (math.sin(i))/2**i\n",
    "print(f'{round(sum, 2):.2f}')"
   ]
  },
  {
   "cell_type": "markdown",
   "metadata": {},
   "source": [
    "62-masala"
   ]
  },
  {
   "cell_type": "code",
   "execution_count": 33,
   "metadata": {},
   "outputs": [],
   "source": [
    "def fact(n):\n",
    "    sum1 = 1\n",
    "    for i in range(1, n+1):\n",
    "        sum1 *= i\n",
    "    return sum1\n"
   ]
  },
  {
   "cell_type": "code",
   "execution_count": 34,
   "metadata": {},
   "outputs": [
    {
     "data": {
      "text/plain": [
       "3628800"
      ]
     },
     "execution_count": 34,
     "metadata": {},
     "output_type": "execute_result"
    }
   ],
   "source": [
    "fact(10)"
   ]
  },
  {
   "cell_type": "markdown",
   "metadata": {},
   "source": [
    "63-masala"
   ]
  },
  {
   "cell_type": "code",
   "execution_count": 41,
   "metadata": {},
   "outputs": [
    {
     "name": "stdout",
     "output_type": "stream",
     "text": [
      "1.0000\n"
     ]
    }
   ],
   "source": [
    "m = int(input())\n",
    "sum = 0\n",
    "for i in range(1, m+1):\n",
    "    sum += ((-1)**(i-1))/fact(2*i-1)\n",
    "print(f'{round(sum, 4):.4f}')"
   ]
  },
  {
   "cell_type": "markdown",
   "metadata": {},
   "source": [
    "64-masala"
   ]
  },
  {
   "cell_type": "code",
   "execution_count": 3,
   "metadata": {},
   "outputs": [
    {
     "name": "stdout",
     "output_type": "stream",
     "text": [
      "0.099\n"
     ]
    }
   ],
   "source": [
    "a, x = map(int, input().split())\n",
    "sum = 0\n",
    "for i in range(1, a+1):\n",
    "    sum += ((-1)**(i-1))/(x**(2*i))\n",
    "print(f'{round(sum, 3):.3f}')"
   ]
  },
  {
   "cell_type": "markdown",
   "metadata": {},
   "source": [
    "65-masala"
   ]
  },
  {
   "cell_type": "code",
   "execution_count": 5,
   "metadata": {},
   "outputs": [
    {
     "name": "stdout",
     "output_type": "stream",
     "text": [
      "0.000\n"
     ]
    }
   ],
   "source": [
    "a, x = map(int, input().split())\n",
    "sum = 0\n",
    "for i in range(1, a+1):\n",
    "    sum += i/(x**(2*i))\n",
    "print(f'{round(sum, 3):.3f}')"
   ]
  },
  {
   "cell_type": "markdown",
   "metadata": {},
   "source": [
    "66-masala"
   ]
  },
  {
   "cell_type": "code",
   "execution_count": null,
   "metadata": {},
   "outputs": [],
   "source": [
    "import math\n",
    "a, x = map(int, input().split())\n",
    "sum = 0\n",
    "for i in range(1, a+1):\n",
    "    sum += ((-1)**(i-1))*math.sin(i*x)/i\n",
    "print(f'{round(sum, 3):.3f}')"
   ]
  },
  {
   "cell_type": "markdown",
   "metadata": {},
   "source": [
    "67-masala"
   ]
  },
  {
   "cell_type": "code",
   "execution_count": null,
   "metadata": {},
   "outputs": [],
   "source": [
    "import math\n",
    "a, x = map(int, input().split())\n",
    "sum = 0\n",
    "for i in range(1, a+1):\n",
    "    sum += (x**i)/math.sqrt(i)\n",
    "print(f'{round(sum, 3):.3f}')"
   ]
  },
  {
   "cell_type": "markdown",
   "metadata": {},
   "source": [
    "68-masala"
   ]
  },
  {
   "cell_type": "code",
   "execution_count": 11,
   "metadata": {},
   "outputs": [
    {
     "name": "stdout",
     "output_type": "stream",
     "text": [
      "2.000\n"
     ]
    }
   ],
   "source": [
    "def fact(d):\n",
    "    sum1 = 1\n",
    "    for i in range(1, d+1):\n",
    "        sum1 *= i\n",
    "    return sum1\n",
    "\n",
    "\n",
    "a, x = map(int, input().split())\n",
    "sum = 0\n",
    "for i in range(1, a+1):\n",
    "    sum += (x**i)/fact(i)\n",
    "print(f'{round(sum, 3):.3f}')\n"
   ]
  },
  {
   "cell_type": "markdown",
   "metadata": {},
   "source": [
    "69-masala"
   ]
  },
  {
   "cell_type": "code",
   "execution_count": null,
   "metadata": {},
   "outputs": [],
   "source": [
    "def fact(d):\n",
    "    sum1 = 1\n",
    "    for i in range(1, d+1):\n",
    "        sum1 *= i\n",
    "    return sum1\n",
    "\n",
    "\n",
    "a, x = map(int, input().split())\n",
    "sum = 0\n",
    "for i in range(1, a+1):\n",
    "    sum += ((-1)**i)*(x**i)/fact(i)\n",
    "print(f'{round(sum, 3):.3f}')"
   ]
  },
  {
   "cell_type": "markdown",
   "metadata": {},
   "source": [
    "70-masala"
   ]
  },
  {
   "cell_type": "code",
   "execution_count": null,
   "metadata": {},
   "outputs": [],
   "source": [
    "def fact(d):\n",
    "    sum1 = 1\n",
    "    for i in range(1, d+1):\n",
    "        sum1 *= i\n",
    "    return sum1\n",
    "\n",
    "\n",
    "a, x = map(int, input().split())\n",
    "sum = 0\n",
    "for i in range(1, a+1):\n",
    "    sum += ((-1)**(i-1))*(x**(2*i-1))/fact(2*i-1)\n",
    "print(f'{round(sum, 3):.3f}')"
   ]
  },
  {
   "cell_type": "markdown",
   "metadata": {},
   "source": [
    "71-masala"
   ]
  },
  {
   "cell_type": "code",
   "execution_count": null,
   "metadata": {},
   "outputs": [],
   "source": [
    "def fact(d):\n",
    "    sum1 = 1\n",
    "    for i in range(1, d+1):\n",
    "        sum1 *= i\n",
    "    return sum1\n",
    "\n",
    "\n",
    "a, x = map(int, input().split())\n",
    "sum = 0\n",
    "for i in range(1, a+1):\n",
    "    sum += ((-1)**(i-1))*(x**(2*i-2))/fact(2*i-2)\n",
    "print(f'{round(sum, 3):.3f}')"
   ]
  },
  {
   "cell_type": "markdown",
   "metadata": {},
   "source": [
    "72-masala"
   ]
  },
  {
   "cell_type": "code",
   "execution_count": null,
   "metadata": {},
   "outputs": [],
   "source": [
    "def fact(d):\n",
    "    sum1 = 1\n",
    "    for i in range(1, d+1):\n",
    "        sum1 *= i\n",
    "    return sum1\n",
    "\n",
    "\n",
    "a, x = map(int, input().split())\n",
    "sum = 0\n",
    "for i in range(1, a+1):\n",
    "    sum += (x**(2*i-2))/fact(2*i-2)\n",
    "print(f'{round(sum, 3):.3f}')"
   ]
  },
  {
   "cell_type": "markdown",
   "metadata": {},
   "source": [
    "73-masala"
   ]
  },
  {
   "cell_type": "code",
   "execution_count": null,
   "metadata": {},
   "outputs": [],
   "source": [
    "a, x = map(int, input().split())\n",
    "sum = 0\n",
    "for i in range(1, a+1):\n",
    "    sum += (x**(2*i-1))/(2*i-1)\n",
    "print(f'{round(sum, 3):.3f}')"
   ]
  },
  {
   "cell_type": "markdown",
   "metadata": {},
   "source": [
    "74-masala"
   ]
  },
  {
   "cell_type": "code",
   "execution_count": null,
   "metadata": {},
   "outputs": [],
   "source": [
    "def fact(d):\n",
    "    sum1 = 1\n",
    "    for i in range(1, d+1):\n",
    "        sum1 *= i\n",
    "    return sum1\n",
    "\n",
    "\n",
    "a, x = map(int, input().split())\n",
    "sum = 0\n",
    "for i in range(1, a+1):\n",
    "    sum += (x**(2*i-1))/fact(2*i-1)\n",
    "print(f'{round(sum, 3):.3f}')"
   ]
  },
  {
   "cell_type": "markdown",
   "metadata": {},
   "source": [
    "75-masala"
   ]
  },
  {
   "cell_type": "code",
   "execution_count": null,
   "metadata": {},
   "outputs": [],
   "source": [
    "def fact(f):\n",
    "    sum1 = 1\n",
    "    for i in range(1, f+1):\n",
    "        sum1 *= i\n",
    "    return sum1\n",
    "\n",
    "a, k = map(int, input().split())\n",
    "sum = 1\n",
    "for i in range(1, a+1):\n",
    "    sum += ((-1)**i)*(k**i)/fact(i)\n",
    "print(f'{round(sum, 3):.3f}')"
   ]
  },
  {
   "cell_type": "markdown",
   "metadata": {},
   "source": [
    "76-masala"
   ]
  },
  {
   "cell_type": "code",
   "execution_count": 38,
   "metadata": {},
   "outputs": [
    {
     "name": "stdout",
     "output_type": "stream",
     "text": [
      "1.15\n"
     ]
    }
   ],
   "source": [
    "import math\n",
    "a,b,c = map(int, input().split())\n",
    "sum = 0\n",
    "for x in range(a, c+1, 3):\n",
    "    sum += ((a*x+b)/(b*b+math.cos(x)**2))**(1/3) - math.sin(x**2)/(a*b)\n",
    "print(f'{round(sum, 2):.2f}')"
   ]
  },
  {
   "cell_type": "markdown",
   "metadata": {},
   "source": [
    "77-masala"
   ]
  },
  {
   "cell_type": "code",
   "execution_count": 43,
   "metadata": {},
   "outputs": [
    {
     "name": "stdout",
     "output_type": "stream",
     "text": [
      "12.55\n"
     ]
    }
   ],
   "source": [
    "import math\n",
    "a,b,c,d = map(int, input().split())\n",
    "sum = 0\n",
    "for x in range(c, d+1, 2):\n",
    "    sum += ((math.sin(a*x)+b**(2*c))/(b*b+math.cos(x)*math.cos(x)))**(1/3) - math.sin(x**2)/(a*b)\n",
    "print(f'{round(sum, 2):.2f}')"
   ]
  },
  {
   "cell_type": "markdown",
   "metadata": {},
   "source": [
    "78-masala"
   ]
  },
  {
   "cell_type": "code",
   "execution_count": 44,
   "metadata": {},
   "outputs": [
    {
     "name": "stdout",
     "output_type": "stream",
     "text": [
      "1.20\n"
     ]
    }
   ],
   "source": [
    "import math\n",
    "a,b,c = map(int, input().split())\n",
    "sum = 0\n",
    "for x in range(a, b+1, 2):\n",
    "    sum += (a**b+b**x+c**a)/(2*x*x+3*(a**x))\n",
    "print(f'{round(sum, 2):.2f}')"
   ]
  },
  {
   "cell_type": "markdown",
   "metadata": {},
   "source": [
    "79-masala"
   ]
  },
  {
   "cell_type": "code",
   "execution_count": 54,
   "metadata": {},
   "outputs": [
    {
     "name": "stdout",
     "output_type": "stream",
     "text": [
      "49.46\n"
     ]
    }
   ],
   "source": [
    "from math import pi, cos\n",
    "a = int(input())\n",
    "x = -pi/2\n",
    "sum = 0\n",
    "while x<=pi:\n",
    "    sum += a**(a/3)+x*x*cos(a*x)\n",
    "    x+=pi/19\n",
    "print(f'{round(sum, 2):.2f}')  "
   ]
  },
  {
   "cell_type": "markdown",
   "metadata": {},
   "source": [
    "80-masala"
   ]
  },
  {
   "cell_type": "code",
   "execution_count": 56,
   "metadata": {},
   "outputs": [
    {
     "name": "stdout",
     "output_type": "stream",
     "text": [
      "0.87\n"
     ]
    }
   ],
   "source": [
    "import math\n",
    "a = int(input())\n",
    "sum = 0\n",
    "x = 0\n",
    "while x<=10:\n",
    "    sum += a*math.cos(x)-math.sin(x*x)\n",
    "    x+=0.5\n",
    "print(f'{round(sum, 2):.2f}')"
   ]
  },
  {
   "cell_type": "markdown",
   "metadata": {},
   "source": [
    "81-masala"
   ]
  },
  {
   "cell_type": "code",
   "execution_count": 77,
   "metadata": {},
   "outputs": [
    {
     "name": "stdout",
     "output_type": "stream",
     "text": [
      "57.51\n"
     ]
    }
   ],
   "source": [
    "from math import cos, sin\n",
    "a,b = map(int, input().split())\n",
    "sum = 0\n",
    "x = 1\n",
    "while x<=12:\n",
    "    sum += a*a + pow(((b+sin(x))/(a*a*a+(cos(x*x*x))*cos(x*x*x))), 1/5)\n",
    "    x+=2\n",
    "print(f'{round(sum, 2):.2f}')"
   ]
  },
  {
   "cell_type": "markdown",
   "metadata": {},
   "source": [
    "82-masala"
   ]
  },
  {
   "cell_type": "code",
   "execution_count": 70,
   "metadata": {},
   "outputs": [
    {
     "name": "stdout",
     "output_type": "stream",
     "text": [
      "173.33\n"
     ]
    }
   ],
   "source": [
    "from math import cos, sin\n",
    "a,b, c = map(int, input().split())\n",
    "sum = 0\n",
    "x = 1\n",
    "while x<=10:\n",
    "    sum += a*x*x/b + x/c\n",
    "    x+=3\n",
    "print(f'{round(sum, 2):.2f}')"
   ]
  },
  {
   "cell_type": "markdown",
   "metadata": {},
   "source": [
    "83-masala"
   ]
  },
  {
   "cell_type": "code",
   "execution_count": 71,
   "metadata": {},
   "outputs": [
    {
     "name": "stdout",
     "output_type": "stream",
     "text": [
      "3.57\n"
     ]
    }
   ],
   "source": [
    "a, b, c = map(int, input().split())\n",
    "sum = 0\n",
    "x = 5\n",
    "while x<=10:\n",
    "    sum += (a*a + b*x + x**c)/(a*a + b*b + x*x)\n",
    "    x+=0.5\n",
    "print(f'{round(sum, 2):.2f}')"
   ]
  },
  {
   "cell_type": "markdown",
   "metadata": {},
   "source": [
    "84-masala"
   ]
  },
  {
   "cell_type": "code",
   "execution_count": 76,
   "metadata": {},
   "outputs": [
    {
     "name": "stdout",
     "output_type": "stream",
     "text": [
      "5.04\n"
     ]
    }
   ],
   "source": [
    "from math import cos, sin, pow\n",
    "a, b, c = map(int, input().split())\n",
    "sum = 0\n",
    "x = -1\n",
    "while x<=1:\n",
    "    sum += pow(((sin(a*x)+b**c)/(b*b+cos(x)**2)), 1/3) - sin(x*x)/(a*b)\n",
    "    x+=0.25\n",
    "print(f'{round(sum, 2):.2f}')"
   ]
  },
  {
   "cell_type": "markdown",
   "metadata": {},
   "source": [
    "85-masala"
   ]
  },
  {
   "cell_type": "code",
   "execution_count": 79,
   "metadata": {},
   "outputs": [
    {
     "name": "stdout",
     "output_type": "stream",
     "text": [
      "6.84\n"
     ]
    }
   ],
   "source": [
    "a, b, c = map(int, input().split())\n",
    "sum = 0\n",
    "x = 1\n",
    "while x<=20:\n",
    "    sum += (a*x*x + b*x + c)/(a*a + b*b + x*x)\n",
    "    x += 5\n",
    "print(f'{round(sum, 2):.2f}')"
   ]
  },
  {
   "cell_type": "markdown",
   "metadata": {},
   "source": [
    "86-masala"
   ]
  },
  {
   "cell_type": "code",
   "execution_count": 80,
   "metadata": {},
   "outputs": [
    {
     "name": "stdout",
     "output_type": "stream",
     "text": [
      "27.42\n"
     ]
    }
   ],
   "source": [
    "from math import cos, sin\n",
    "a,b,c = map(int, input().split())\n",
    "sum = 0\n",
    "x = c\n",
    "while x<=b:\n",
    "    sum += a*a*cos(x) + sin(x)/2 + b*x*x\n",
    "    x += 0.25\n",
    "print(f'{round(sum, 2):.2f}')"
   ]
  },
  {
   "cell_type": "markdown",
   "metadata": {},
   "source": [
    "87-masala"
   ]
  },
  {
   "cell_type": "code",
   "execution_count": 81,
   "metadata": {},
   "outputs": [
    {
     "name": "stdout",
     "output_type": "stream",
     "text": [
      "8.32\n"
     ]
    }
   ],
   "source": [
    "from math import cos, sin, pi\n",
    "a = int(input())\n",
    "sum = 0\n",
    "x = -pi/2\n",
    "while x<=pi:\n",
    "    sum += 2*a**(sin(2*x)/3) + x*x*cos(a*x)\n",
    "    x += pi/10\n",
    "print(f'{round(sum, 2):.2f}')"
   ]
  },
  {
   "cell_type": "markdown",
   "metadata": {},
   "source": [
    "88-masala"
   ]
  },
  {
   "cell_type": "code",
   "execution_count": 82,
   "metadata": {},
   "outputs": [
    {
     "name": "stdout",
     "output_type": "stream",
     "text": [
      "0.51\n"
     ]
    }
   ],
   "source": [
    "from math import cos, sin\n",
    "a,b,c,d = map(int, input().split())\n",
    "sum = 0\n",
    "x = d\n",
    "while x<=c:\n",
    "    sum += pow(((a*x+b)/(b*b+(cos(x))*cos(x))), 1/5) - sin(x*x)/(a*b)\n",
    "    x+=1.5\n",
    "print(f'{round(sum, 2):.2f}')"
   ]
  },
  {
   "cell_type": "markdown",
   "metadata": {},
   "source": [
    "89-masala"
   ]
  },
  {
   "cell_type": "code",
   "execution_count": null,
   "metadata": {},
   "outputs": [],
   "source": [
    "from math import cos, sin, sqrt\n",
    "a,b,c = map(int, input().split())\n",
    "sum = 0\n",
    "x = 0\n",
    "while x<=1:\n",
    "    sum += sqrt((sin(a*x)+b**c)/(b*b+cos(x)**2)) - sin(x*x)/(a*b)\n",
    "    x += 0.25\n",
    "print(f'{round(sum, 2):.2f}')"
   ]
  },
  {
   "cell_type": "markdown",
   "metadata": {},
   "source": [
    "90-masala"
   ]
  },
  {
   "cell_type": "code",
   "execution_count": 83,
   "metadata": {},
   "outputs": [
    {
     "name": "stdout",
     "output_type": "stream",
     "text": [
      "373.45\n"
     ]
    }
   ],
   "source": [
    "from math import cos, sin, pi, log, exp, atan\n",
    "a,b,c = map(int, input().split())\n",
    "sum = 0\n",
    "x = -pi\n",
    "while x<=pi:\n",
    "    sum += (log(a**(2*sin(x)))+exp(2*x)) / (atan(x)+b) + c\n",
    "    x += pi/10\n",
    "print(f'{round(sum, 2):.2f}')"
   ]
  },
  {
   "cell_type": "markdown",
   "metadata": {},
   "source": [
    "91-masala"
   ]
  },
  {
   "cell_type": "code",
   "execution_count": 88,
   "metadata": {},
   "outputs": [
    {
     "name": "stdout",
     "output_type": "stream",
     "text": [
      "12.00 0.08 1.00 "
     ]
    }
   ],
   "source": [
    "from math import cos, sin, pi, log\n",
    "a,b,c,d = map(int, input().split())\n",
    "sum1 = 0\n",
    "for m in range(1, a+1):\n",
    "    sum1 += (3*m**3+4*m+5)/(m**3+log(m))\n",
    "sum2 = 1\n",
    "for k in range(1, b+1):\n",
    "    sum2 *= k/(k**3+7*k+5)\n",
    "sum4 = 0\n",
    "for i in range(1, c+1):\n",
    "    sum3 = 1\n",
    "    for m in range(1, d+1):\n",
    "        sum3 *= (log(i)+m**i)/(m**i)\n",
    "    sum4 += sum3\n",
    "print(f'{round(sum1, 2):.2f}', end=\" \")\n",
    "print(f'{round(sum2, 2):.2f}', end=\" \")\n",
    "print(f'{round(sum4, 2):.2f}', end=\" \")\n"
   ]
  },
  {
   "cell_type": "markdown",
   "metadata": {},
   "source": [
    "92-masala"
   ]
  },
  {
   "cell_type": "code",
   "execution_count": 10,
   "metadata": {},
   "outputs": [
    {
     "name": "stdout",
     "output_type": "stream",
     "text": [
      "1.31 0.69 0.00 "
     ]
    }
   ],
   "source": [
    "from math import cos, sin, log, pow\n",
    "x,y,a,b = map(int, input().split())\n",
    "sum1 = 0\n",
    "for a in range(1, x+1):\n",
    "    sum1 += (a*a+2*a)/(a**3+a*cos(a)**2+1)\n",
    "sum2 = 1\n",
    "for i in range(1, y+1):\n",
    "    sum2 *= (i*i+1)/(i**(3/i)+2)\n",
    "sum4 = 0\n",
    "for i in range(1, a+1):\n",
    "    sum3 = 1\n",
    "    for k in range(1, b+1):\n",
    "        sum3 *= log((k**i+pow(k, 1/i)))-log((k**3+pow(i, 1/k)))\n",
    "    sum4 += sum3\n",
    "print(f'{round(sum1, 2):.2f}', end=\" \")\n",
    "print(f'{round(sum2, 2):.2f}', end=\" \")\n",
    "print(f'{round(sum4, 2):.2f}', end=\" \")"
   ]
  },
  {
   "cell_type": "markdown",
   "metadata": {},
   "source": [
    "94-masala"
   ]
  },
  {
   "cell_type": "code",
   "execution_count": 94,
   "metadata": {},
   "outputs": [
    {
     "name": "stdout",
     "output_type": "stream",
     "text": [
      "19.30 13.20 7.11 "
     ]
    }
   ],
   "source": [
    "from math import cos, sin, pi, log, sqrt\n",
    "x,y,c,d = map(int, input().split())\n",
    "sum1 = 0\n",
    "for a in range(1, x+1):\n",
    "    sum1 += (2*a+cos(a))**2\n",
    "sum2 = 1\n",
    "for a in range(1, y+1):\n",
    "    sum2 *= (a+6)/(sqrt(a*a+2))\n",
    "sum4 = 0\n",
    "for k in range(1, c+1):\n",
    "    sum3 = 0\n",
    "    for y in range(1, d+1):\n",
    "        sum3 += (k*k+y)/(sqrt(k*k+y*y))\n",
    "    sum4 += sum3\n",
    "print(f'{round(sum1, 2):.2f}', end=\" \")\n",
    "print(f'{round(sum2, 2):.2f}', end=\" \")\n",
    "print(f'{round(sum4, 2):.2f}', end=\" \")"
   ]
  },
  {
   "cell_type": "markdown",
   "metadata": {},
   "source": [
    "93-masala"
   ]
  },
  {
   "cell_type": "code",
   "execution_count": 100,
   "metadata": {},
   "outputs": [
    {
     "name": "stdout",
     "output_type": "stream",
     "text": [
      "6.20 -13.45 1.45 "
     ]
    }
   ],
   "source": [
    "from math import cos, sin, pi, log, sqrt\n",
    "x,y,a,b = map(int, input().split())\n",
    "sum1 = 0\n",
    "for k in range(1, x+1):\n",
    "    sum1 += (k*k+sin(k)+5)/(pow(k**7+1, 1/5))\n",
    "sum2 = 1\n",
    "for n in range(1, y+1):\n",
    "    sum2 *= (n+sqrt(n))/(n-pow(n+1, 1/5))\n",
    "sum4 = 0\n",
    "for k in range(1, a+1):\n",
    "    sum3 = 1\n",
    "    for i in range(1, b+1):\n",
    "        sum3 *= (i*i+pow(k, 2/i))/((sin(i)+cos(k))*(i**k))\n",
    "    sum4 += sum3\n",
    "print(f'{round(sum1, 2):.2f}', end=\" \")\n",
    "print(f'{round(sum2, 2):.2f}', end=\" \")\n",
    "print(f'{round(sum4, 2):.2f}', end=\" \")"
   ]
  },
  {
   "cell_type": "markdown",
   "metadata": {},
   "source": [
    "95-masala"
   ]
  },
  {
   "cell_type": "code",
   "execution_count": 4,
   "metadata": {},
   "outputs": [
    {
     "name": "stdout",
     "output_type": "stream",
     "text": [
      "10.10 0.50 0.58 "
     ]
    }
   ],
   "source": [
    "from math import cos, sin, pi, log, sqrt, exp\n",
    "x,y,c,d = map(int, input().split())\n",
    "sum1 = 0\n",
    "for i in range(1, x+1):\n",
    "    sum1 += (i**4+i**2+3)/(sqrt(i+exp(i)))\n",
    "sum2 = 0\n",
    "for k in range(1, y+1):\n",
    "    sum2 += (k+1)/(k*k*k+5*k)\n",
    "sum4 = 0\n",
    "for m in range(1, c+1):\n",
    "    sum3 = 1\n",
    "    for n in range(1, d+1):\n",
    "        sum3 *= sqrt((abs(m**n-n**m))/(m**n+n**m))\n",
    "    sum4 += sum3\n",
    "print(f'{round(sum1, 2):.2f}', end=\" \")\n",
    "print(f'{round(sum2, 2):.2f}', end=\" \")\n",
    "print(f'{round(sum4, 2):.2f}', end=\" \")"
   ]
  },
  {
   "cell_type": "markdown",
   "metadata": {},
   "source": [
    "96-masala"
   ]
  },
  {
   "cell_type": "code",
   "execution_count": 108,
   "metadata": {},
   "outputs": [
    {
     "name": "stdout",
     "output_type": "stream",
     "text": [
      "-0.44 1.29 0.54 "
     ]
    }
   ],
   "source": [
    "from math import log\n",
    "x,y,c,d = map(int, input().split())\n",
    "sum1 = 0\n",
    "for k in range(1, x+1):\n",
    "    sum1 += ((-1)**k*(k+1))/(k**3+k**2+1)\n",
    "sum2 = 1\n",
    "for i in range(1, y+1):\n",
    "    sum2 *= (i**3+abs(i-9))/(log(i)+7*i)\n",
    "sum4 = 1\n",
    "for n in range(1, c+1):\n",
    "    sum3 = 0\n",
    "    for m in range(1, d+1):\n",
    "        sum3 += (-1)**m*(log(m+5))/(m**(n+3)+n*m)\n",
    "    sum4 *= sum3\n",
    "print(f'{round(sum1, 2):.2f}', end=\" \")\n",
    "print(f'{round(sum2, 2):.2f}', end=\" \")\n",
    "print(f'{round(sum4, 2):.2f}', end=\" \")"
   ]
  },
  {
   "cell_type": "markdown",
   "metadata": {},
   "source": [
    "97-masala"
   ]
  },
  {
   "cell_type": "code",
   "execution_count": 114,
   "metadata": {},
   "outputs": [
    {
     "name": "stdout",
     "output_type": "stream",
     "text": [
      "-0.09 0.56 -0.20 "
     ]
    }
   ],
   "source": [
    "from math import log, sqrt, sin, pow, exp\n",
    "x,y,c,d = map(int, input().split())\n",
    "sum1 = 0\n",
    "for n in range(1, x+1):\n",
    "    sum1 += 1/(5-17*n+n**3)\n",
    "sum2 = 1\n",
    "for m in range(1, y+1):\n",
    "    sum2 *= (sqrt(abs(m-5)+1))/(m*m+4*m-1)\n",
    "sum4 = 0\n",
    "for i in range(1, c+1):\n",
    "    sum3 = 1\n",
    "    for k in range(1, d+1):\n",
    "        sum3 *= ((-1)**i)*(pow(abs(sin(k)+exp(k)), 1/7)) / (2*abs(4*i**3-k**4))\n",
    "    sum4 += sum3\n",
    "print(f'{round(sum1, 2):.2f}', end=\" \")\n",
    "print(f'{round(sum2, 2):.2f}', end=\" \")\n",
    "print(f'{round(sum4, 2):.2f}', end=\" \")"
   ]
  },
  {
   "cell_type": "markdown",
   "metadata": {},
   "source": [
    "98-masala"
   ]
  },
  {
   "cell_type": "code",
   "execution_count": 115,
   "metadata": {},
   "outputs": [
    {
     "name": "stdout",
     "output_type": "stream",
     "text": [
      "2.00 1.12 1.00 "
     ]
    }
   ],
   "source": [
    "from math import log, cos\n",
    "x,y,c,d = map(int, input().split())\n",
    "sum1 = 0\n",
    "for a in range(1, x+1):\n",
    "    sum1 += (4*a+6*log(a))/(a*a+a)\n",
    "sum2 = 1\n",
    "for a in range(1, y+1):\n",
    "    sum2 *= (abs(a-6*cos(a)))/(a*a+a**(log(a)))\n",
    "sum4 = 0\n",
    "for k in range(1, c+1):\n",
    "    sum3 = 1\n",
    "    for a in range(1, d+1):\n",
    "        sum3 *= (a*k+x)/(k*k+y*y)\n",
    "    sum4 += sum3\n",
    "print(f'{round(sum1, 2):.2f}', end=\" \")\n",
    "print(f'{round(sum2, 2):.2f}', end=\" \")\n",
    "print(f'{round(sum4, 2):.2f}', end=\" \")"
   ]
  },
  {
   "cell_type": "markdown",
   "metadata": {},
   "source": [
    "99-masala"
   ]
  },
  {
   "cell_type": "code",
   "execution_count": null,
   "metadata": {},
   "outputs": [],
   "source": [
    "from math import exp, sqrt\n",
    "x,y,c,d = map(int, input().split())\n",
    "sum1 = 0\n",
    "for k in range(1, x+1):\n",
    "    sum1 += (k**3+exp(k))\n",
    "sum2 = 1\n",
    "for a in range(3, y+1):\n",
    "    sum2 *= a*x/(sqrt(a*a+x*x))\n",
    "sum4 = 0\n",
    "for i in range(1, c+1):\n",
    "    sum3 = 1    \n",
    "    for j in range(1, d+1):\n",
    "        sum3 *= (i*x+j*j)/(sqrt(i*i+j*y))\n",
    "    sum4 += sum3\n",
    "print(f'{round(sum1, 2):.2f}', end=\" \")\n",
    "print(f'{round(sum2, 2):.2f}', end=\" \")\n",
    "print(f'{round(sum4, 2):.2f}', end=\" \") "
   ]
  },
  {
   "cell_type": "markdown",
   "metadata": {},
   "source": [
    "100-masala"
   ]
  },
  {
   "cell_type": "code",
   "execution_count": 119,
   "metadata": {},
   "outputs": [
    {
     "name": "stdout",
     "output_type": "stream",
     "text": [
      "2.99 8.32 1.41 "
     ]
    }
   ],
   "source": [
    "from math import sqrt, log, sin\n",
    "x,y,c,d = map(int, input().split())\n",
    "sum1 = 0\n",
    "for a in range(1, x+1):\n",
    "    sum1 += (a*x+4)/(sqrt(a+log(6)))\n",
    "sum2 = 1\n",
    "for a in range(1, y+1):\n",
    "    sum2 *= (a*x*x+6)/(sin(a*x))\n",
    "sum4 = 1\n",
    "for i in range(1, c+1):\n",
    "    sum3 = 1    \n",
    "    for j in range(1, d+1):\n",
    "        sum3 *= (i*j+x*y)/(sqrt((j*x+y)**i))\n",
    "    sum4 *= sum3\n",
    "print(f'{round(sum1, 2):.2f}', end=\" \")\n",
    "print(f'{round(sum2, 2):.2f}', end=\" \")\n",
    "print(f'{round(sum4, 2):.2f}', end=\" \") "
   ]
  },
  {
   "cell_type": "markdown",
   "metadata": {},
   "source": [
    "101-masala"
   ]
  },
  {
   "cell_type": "code",
   "execution_count": null,
   "metadata": {},
   "outputs": [],
   "source": []
  }
 ],
 "metadata": {
  "kernelspec": {
   "display_name": "Python 3.8.10 64-bit",
   "language": "python",
   "name": "python3"
  },
  "language_info": {
   "codemirror_mode": {
    "name": "ipython",
    "version": 3
   },
   "file_extension": ".py",
   "mimetype": "text/x-python",
   "name": "python",
   "nbconvert_exporter": "python",
   "pygments_lexer": "ipython3",
   "version": "3.8.10"
  },
  "orig_nbformat": 4,
  "vscode": {
   "interpreter": {
    "hash": "916dbcbb3f70747c44a77c7bcd40155683ae19c65e1c03b4aa3499c5328201f1"
   }
  }
 },
 "nbformat": 4,
 "nbformat_minor": 2
}
